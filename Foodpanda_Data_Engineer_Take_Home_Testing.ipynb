{
  "nbformat": 4,
  "nbformat_minor": 0,
  "metadata": {
    "colab": {
      "name": "Foodpanda - Data Engineer Take Home - Testing.ipynb",
      "provenance": [],
      "collapsed_sections": [],
      "mount_file_id": "1QokEYVJzG1knz-SUzdw5-yz4kKf2Vcs6",
      "authorship_tag": "ABX9TyN6dK2i4FksNl2kf6USnWeD",
      "include_colab_link": true
    },
    "kernelspec": {
      "name": "python3",
      "display_name": "Python 3"
    },
    "language_info": {
      "name": "python"
    }
  },
  "cells": [
    {
      "cell_type": "markdown",
      "metadata": {
        "id": "view-in-github",
        "colab_type": "text"
      },
      "source": [
        "<a href=\"https://colab.research.google.com/github/raymondyeo88/foodpanda_assessment/blob/main/Foodpanda_Data_Engineer_Take_Home_Testing.ipynb\" target=\"_parent\"><img src=\"https://colab.research.google.com/assets/colab-badge.svg\" alt=\"Open In Colab\"/></a>"
      ]
    },
    {
      "cell_type": "code",
      "metadata": {
        "id": "QoXb1g35oyJ7"
      },
      "source": [
        "pip install pyforest"
      ],
      "execution_count": null,
      "outputs": []
    },
    {
      "cell_type": "code",
      "metadata": {
        "id": "nGJnxkPkjt5D"
      },
      "source": [
        "pip install haversine"
      ],
      "execution_count": null,
      "outputs": []
    },
    {
      "cell_type": "code",
      "metadata": {
        "id": "x7J0VnsL9fFU"
      },
      "source": [
        "from google.colab import auth\n",
        "import google.cloud.bigquery as bq\n",
        "import pyforest\n",
        "import math\n",
        "from haversine import haversine, Unit"
      ],
      "execution_count": 1,
      "outputs": []
    },
    {
      "cell_type": "code",
      "metadata": {
        "id": "yI3hdZziQ65k"
      },
      "source": [
        ""
      ],
      "execution_count": 1,
      "outputs": []
    },
    {
      "cell_type": "markdown",
      "metadata": {
        "id": "yxhYICa5Q7db"
      },
      "source": [
        "# <center><h1> Authentication and SQL magic loading section </h1></center>"
      ]
    },
    {
      "cell_type": "code",
      "metadata": {
        "colab": {
          "base_uri": "https://localhost:8080/"
        },
        "id": "vuxLa9ni9bHB",
        "outputId": "22c38b48-7bec-4fec-9344-b91ae2302a96"
      },
      "source": [
        "auth.authenticate_user()\n",
        "print('Authenticated')\n",
        "\n",
        "bqclient = bq.Client(project=\"glowing-indexer-329808\")"
      ],
      "execution_count": 2,
      "outputs": [
        {
          "output_type": "stream",
          "name": "stdout",
          "text": [
            "Authenticated\n"
          ]
        }
      ]
    },
    {
      "cell_type": "code",
      "metadata": {
        "id": "PGqoySiNJH_p"
      },
      "source": [
        "# %load_ext google.cloud.bigquery\n",
        "%reload_ext google.cloud.bigquery"
      ],
      "execution_count": 3,
      "outputs": []
    },
    {
      "cell_type": "code",
      "metadata": {
        "id": "o9D6hzX6RVwk"
      },
      "source": [
        ""
      ],
      "execution_count": null,
      "outputs": []
    },
    {
      "cell_type": "markdown",
      "metadata": {
        "id": "4Zm7lhdkB9JP"
      },
      "source": [
        "<center><h1> Pulling whole data from BigQuery </h1></center>"
      ]
    },
    {
      "cell_type": "code",
      "metadata": {
        "id": "qZqKD2XaA5GW"
      },
      "source": [
        "%%bigquery --project glowing-indexer-329808 world_port_index_dframe\n",
        "\n",
        "SELECT *\n",
        "FROM `bigquery-public-data.geo_international_ports.world_port_index`;"
      ],
      "execution_count": 4,
      "outputs": []
    },
    {
      "cell_type": "code",
      "metadata": {
        "colab": {
          "base_uri": "https://localhost:8080/",
          "height": 311
        },
        "id": "V9ASG5s5pkqe",
        "outputId": "838d5e99-8957-4bc1-8867-8a95ebf1245e"
      },
      "source": [
        "world_port_index_dframe.head()"
      ],
      "execution_count": 5,
      "outputs": [
        {
          "output_type": "execute_result",
          "data": {
            "text/html": [
              "<div>\n",
              "<style scoped>\n",
              "    .dataframe tbody tr th:only-of-type {\n",
              "        vertical-align: middle;\n",
              "    }\n",
              "\n",
              "    .dataframe tbody tr th {\n",
              "        vertical-align: top;\n",
              "    }\n",
              "\n",
              "    .dataframe thead th {\n",
              "        text-align: right;\n",
              "    }\n",
              "</style>\n",
              "<table border=\"1\" class=\"dataframe\">\n",
              "  <thead>\n",
              "    <tr style=\"text-align: right;\">\n",
              "      <th></th>\n",
              "      <th>index_number</th>\n",
              "      <th>region_number</th>\n",
              "      <th>port_name</th>\n",
              "      <th>country</th>\n",
              "      <th>port_latitude</th>\n",
              "      <th>port_longitude</th>\n",
              "      <th>publication_number</th>\n",
              "      <th>chart_number</th>\n",
              "      <th>harbor_size</th>\n",
              "      <th>harbor_type</th>\n",
              "      <th>shelter_afforded</th>\n",
              "      <th>entry_tide</th>\n",
              "      <th>entry_swell</th>\n",
              "      <th>entry_ice</th>\n",
              "      <th>entry_other</th>\n",
              "      <th>overhead_limit</th>\n",
              "      <th>channel_depth</th>\n",
              "      <th>anchorage_depth</th>\n",
              "      <th>cargo_pier_depth</th>\n",
              "      <th>cargo_oil_depth</th>\n",
              "      <th>tide_range</th>\n",
              "      <th>max_vessel_size</th>\n",
              "      <th>good_holding_ground</th>\n",
              "      <th>turning_area</th>\n",
              "      <th>port_of_entry</th>\n",
              "      <th>us_representative</th>\n",
              "      <th>eta_message_required</th>\n",
              "      <th>pilot_required</th>\n",
              "      <th>pilot_available</th>\n",
              "      <th>pilot_local_assist</th>\n",
              "      <th>pilot_advised</th>\n",
              "      <th>tug_salvage</th>\n",
              "      <th>tug_assist</th>\n",
              "      <th>quarantine_procedures_required</th>\n",
              "      <th>quarantine_sscc_cert_required</th>\n",
              "      <th>quarantine_other</th>\n",
              "      <th>comms_phone</th>\n",
              "      <th>comms_fax</th>\n",
              "      <th>comms_radio</th>\n",
              "      <th>comms_vhf</th>\n",
              "      <th>comms_air</th>\n",
              "      <th>comms_rail</th>\n",
              "      <th>cargo_wharf</th>\n",
              "      <th>cargo_anchor</th>\n",
              "      <th>cargo_med_moor</th>\n",
              "      <th>cargo_beach_moor</th>\n",
              "      <th>cargo_ice_moor</th>\n",
              "      <th>med_facility</th>\n",
              "      <th>garbage_dispose</th>\n",
              "      <th>degauss</th>\n",
              "      <th>dirty_ballast</th>\n",
              "      <th>crane_fixed</th>\n",
              "      <th>crane_mobile</th>\n",
              "      <th>crane_float</th>\n",
              "      <th>lift_100_tons</th>\n",
              "      <th>lift_50_100_tons</th>\n",
              "      <th>lift_25_49_tons</th>\n",
              "      <th>lift_0_24_tons</th>\n",
              "      <th>services_longshore</th>\n",
              "      <th>services_electrical</th>\n",
              "      <th>services_steam</th>\n",
              "      <th>services_nav_equip</th>\n",
              "      <th>services_electrical_repair</th>\n",
              "      <th>provisions</th>\n",
              "      <th>water</th>\n",
              "      <th>fuel_oil</th>\n",
              "      <th>diesel</th>\n",
              "      <th>deck_supplies</th>\n",
              "      <th>eng_supplies</th>\n",
              "      <th>repair_types</th>\n",
              "      <th>dry_dock_types</th>\n",
              "      <th>railway_types</th>\n",
              "      <th>port_geom</th>\n",
              "    </tr>\n",
              "  </thead>\n",
              "  <tbody>\n",
              "    <tr>\n",
              "      <th>0</th>\n",
              "      <td>50922</td>\n",
              "      <td>50920</td>\n",
              "      <td>MERAK MAS TERMINAL</td>\n",
              "      <td>ID</td>\n",
              "      <td>-5.916667</td>\n",
              "      <td>105.983333</td>\n",
              "      <td>150</td>\n",
              "      <td>None</td>\n",
              "      <td>M</td>\n",
              "      <td>CN</td>\n",
              "      <td>F</td>\n",
              "      <td>None</td>\n",
              "      <td>None</td>\n",
              "      <td>None</td>\n",
              "      <td>None</td>\n",
              "      <td>None</td>\n",
              "      <td>J</td>\n",
              "      <td>A</td>\n",
              "      <td>J</td>\n",
              "      <td>J</td>\n",
              "      <td>0</td>\n",
              "      <td>M</td>\n",
              "      <td>None</td>\n",
              "      <td>None</td>\n",
              "      <td>None</td>\n",
              "      <td>None</td>\n",
              "      <td>None</td>\n",
              "      <td>None</td>\n",
              "      <td>True</td>\n",
              "      <td>None</td>\n",
              "      <td>None</td>\n",
              "      <td>None</td>\n",
              "      <td>True</td>\n",
              "      <td>None</td>\n",
              "      <td>None</td>\n",
              "      <td>None</td>\n",
              "      <td>True</td>\n",
              "      <td>None</td>\n",
              "      <td>True</td>\n",
              "      <td>None</td>\n",
              "      <td>None</td>\n",
              "      <td>None</td>\n",
              "      <td>True</td>\n",
              "      <td>None</td>\n",
              "      <td>None</td>\n",
              "      <td>None</td>\n",
              "      <td>None</td>\n",
              "      <td>True</td>\n",
              "      <td>None</td>\n",
              "      <td>None</td>\n",
              "      <td>None</td>\n",
              "      <td>None</td>\n",
              "      <td>True</td>\n",
              "      <td>None</td>\n",
              "      <td>None</td>\n",
              "      <td>None</td>\n",
              "      <td>None</td>\n",
              "      <td>None</td>\n",
              "      <td>None</td>\n",
              "      <td>None</td>\n",
              "      <td>None</td>\n",
              "      <td>None</td>\n",
              "      <td>None</td>\n",
              "      <td>None</td>\n",
              "      <td>True</td>\n",
              "      <td>True</td>\n",
              "      <td>True</td>\n",
              "      <td>None</td>\n",
              "      <td>None</td>\n",
              "      <td>None</td>\n",
              "      <td>None</td>\n",
              "      <td>None</td>\n",
              "      <td>POINT(105.983333333333 -5.91666666666667)</td>\n",
              "    </tr>\n",
              "    <tr>\n",
              "      <th>1</th>\n",
              "      <td>47855</td>\n",
              "      <td>47840</td>\n",
              "      <td>DORALEH</td>\n",
              "      <td>DJ</td>\n",
              "      <td>11.600000</td>\n",
              "      <td>43.083333</td>\n",
              "      <td>172</td>\n",
              "      <td>None</td>\n",
              "      <td>S</td>\n",
              "      <td>CN</td>\n",
              "      <td>None</td>\n",
              "      <td>None</td>\n",
              "      <td>None</td>\n",
              "      <td>None</td>\n",
              "      <td>None</td>\n",
              "      <td>None</td>\n",
              "      <td>None</td>\n",
              "      <td>None</td>\n",
              "      <td>E</td>\n",
              "      <td>D</td>\n",
              "      <td>0</td>\n",
              "      <td>L</td>\n",
              "      <td>None</td>\n",
              "      <td>None</td>\n",
              "      <td>None</td>\n",
              "      <td>None</td>\n",
              "      <td>True</td>\n",
              "      <td>True</td>\n",
              "      <td>None</td>\n",
              "      <td>None</td>\n",
              "      <td>None</td>\n",
              "      <td>None</td>\n",
              "      <td>None</td>\n",
              "      <td>None</td>\n",
              "      <td>None</td>\n",
              "      <td>None</td>\n",
              "      <td>True</td>\n",
              "      <td>None</td>\n",
              "      <td>None</td>\n",
              "      <td>True</td>\n",
              "      <td>None</td>\n",
              "      <td>None</td>\n",
              "      <td>True</td>\n",
              "      <td>None</td>\n",
              "      <td>None</td>\n",
              "      <td>None</td>\n",
              "      <td>None</td>\n",
              "      <td>None</td>\n",
              "      <td>None</td>\n",
              "      <td>None</td>\n",
              "      <td>None</td>\n",
              "      <td>None</td>\n",
              "      <td>None</td>\n",
              "      <td>None</td>\n",
              "      <td>None</td>\n",
              "      <td>None</td>\n",
              "      <td>None</td>\n",
              "      <td>None</td>\n",
              "      <td>None</td>\n",
              "      <td>None</td>\n",
              "      <td>None</td>\n",
              "      <td>None</td>\n",
              "      <td>None</td>\n",
              "      <td>None</td>\n",
              "      <td>None</td>\n",
              "      <td>None</td>\n",
              "      <td>None</td>\n",
              "      <td>None</td>\n",
              "      <td>None</td>\n",
              "      <td>None</td>\n",
              "      <td>None</td>\n",
              "      <td>None</td>\n",
              "      <td>POINT(43.0833333333333 11.6)</td>\n",
              "    </tr>\n",
              "    <tr>\n",
              "      <th>2</th>\n",
              "      <td>8822</td>\n",
              "      <td>8650</td>\n",
              "      <td>SOUTHWEST PASS</td>\n",
              "      <td>US</td>\n",
              "      <td>28.450000</td>\n",
              "      <td>-90.700000</td>\n",
              "      <td>CP05</td>\n",
              "      <td>None</td>\n",
              "      <td>S</td>\n",
              "      <td>RN</td>\n",
              "      <td>N</td>\n",
              "      <td>False</td>\n",
              "      <td>False</td>\n",
              "      <td>False</td>\n",
              "      <td>True</td>\n",
              "      <td>None</td>\n",
              "      <td>None</td>\n",
              "      <td>None</td>\n",
              "      <td>None</td>\n",
              "      <td>J</td>\n",
              "      <td>0</td>\n",
              "      <td>M</td>\n",
              "      <td>None</td>\n",
              "      <td>None</td>\n",
              "      <td>None</td>\n",
              "      <td>None</td>\n",
              "      <td>None</td>\n",
              "      <td>None</td>\n",
              "      <td>True</td>\n",
              "      <td>True</td>\n",
              "      <td>None</td>\n",
              "      <td>None</td>\n",
              "      <td>None</td>\n",
              "      <td>None</td>\n",
              "      <td>None</td>\n",
              "      <td>None</td>\n",
              "      <td>True</td>\n",
              "      <td>None</td>\n",
              "      <td>None</td>\n",
              "      <td>None</td>\n",
              "      <td>None</td>\n",
              "      <td>None</td>\n",
              "      <td>True</td>\n",
              "      <td>None</td>\n",
              "      <td>None</td>\n",
              "      <td>None</td>\n",
              "      <td>None</td>\n",
              "      <td>None</td>\n",
              "      <td>None</td>\n",
              "      <td>None</td>\n",
              "      <td>None</td>\n",
              "      <td>None</td>\n",
              "      <td>None</td>\n",
              "      <td>None</td>\n",
              "      <td>None</td>\n",
              "      <td>None</td>\n",
              "      <td>None</td>\n",
              "      <td>None</td>\n",
              "      <td>True</td>\n",
              "      <td>None</td>\n",
              "      <td>None</td>\n",
              "      <td>None</td>\n",
              "      <td>None</td>\n",
              "      <td>None</td>\n",
              "      <td>None</td>\n",
              "      <td>None</td>\n",
              "      <td>None</td>\n",
              "      <td>None</td>\n",
              "      <td>None</td>\n",
              "      <td>None</td>\n",
              "      <td>None</td>\n",
              "      <td>None</td>\n",
              "      <td>POINT(-90.7 28.45)</td>\n",
              "    </tr>\n",
              "    <tr>\n",
              "      <th>3</th>\n",
              "      <td>2200</td>\n",
              "      <td>1930</td>\n",
              "      <td>PORT DE BECANCOUR</td>\n",
              "      <td>CA</td>\n",
              "      <td>46.400000</td>\n",
              "      <td>-72.383333</td>\n",
              "      <td>SCOR</td>\n",
              "      <td>None</td>\n",
              "      <td>V</td>\n",
              "      <td>RN</td>\n",
              "      <td>E</td>\n",
              "      <td>False</td>\n",
              "      <td>False</td>\n",
              "      <td>True</td>\n",
              "      <td>False</td>\n",
              "      <td>False</td>\n",
              "      <td>K</td>\n",
              "      <td>K</td>\n",
              "      <td>K</td>\n",
              "      <td>None</td>\n",
              "      <td>0</td>\n",
              "      <td>M</td>\n",
              "      <td>True</td>\n",
              "      <td>None</td>\n",
              "      <td>None</td>\n",
              "      <td>None</td>\n",
              "      <td>True</td>\n",
              "      <td>True</td>\n",
              "      <td>None</td>\n",
              "      <td>None</td>\n",
              "      <td>None</td>\n",
              "      <td>None</td>\n",
              "      <td>True</td>\n",
              "      <td>None</td>\n",
              "      <td>None</td>\n",
              "      <td>None</td>\n",
              "      <td>None</td>\n",
              "      <td>None</td>\n",
              "      <td>None</td>\n",
              "      <td>None</td>\n",
              "      <td>None</td>\n",
              "      <td>None</td>\n",
              "      <td>True</td>\n",
              "      <td>None</td>\n",
              "      <td>None</td>\n",
              "      <td>None</td>\n",
              "      <td>None</td>\n",
              "      <td>None</td>\n",
              "      <td>None</td>\n",
              "      <td>None</td>\n",
              "      <td>None</td>\n",
              "      <td>None</td>\n",
              "      <td>None</td>\n",
              "      <td>None</td>\n",
              "      <td>None</td>\n",
              "      <td>None</td>\n",
              "      <td>None</td>\n",
              "      <td>None</td>\n",
              "      <td>None</td>\n",
              "      <td>None</td>\n",
              "      <td>None</td>\n",
              "      <td>None</td>\n",
              "      <td>None</td>\n",
              "      <td>None</td>\n",
              "      <td>None</td>\n",
              "      <td>None</td>\n",
              "      <td>None</td>\n",
              "      <td>None</td>\n",
              "      <td>None</td>\n",
              "      <td>None</td>\n",
              "      <td>None</td>\n",
              "      <td>None</td>\n",
              "      <td>POINT(-72.3833333333333 46.4)</td>\n",
              "    </tr>\n",
              "    <tr>\n",
              "      <th>4</th>\n",
              "      <td>62635</td>\n",
              "      <td>62530</td>\n",
              "      <td>PORT BERINGOVSKY</td>\n",
              "      <td>RU</td>\n",
              "      <td>63.066667</td>\n",
              "      <td>179.366667</td>\n",
              "      <td>155</td>\n",
              "      <td>None</td>\n",
              "      <td>None</td>\n",
              "      <td>None</td>\n",
              "      <td>None</td>\n",
              "      <td>None</td>\n",
              "      <td>None</td>\n",
              "      <td>None</td>\n",
              "      <td>None</td>\n",
              "      <td>None</td>\n",
              "      <td>None</td>\n",
              "      <td>E</td>\n",
              "      <td>O</td>\n",
              "      <td>None</td>\n",
              "      <td>1</td>\n",
              "      <td>None</td>\n",
              "      <td>None</td>\n",
              "      <td>None</td>\n",
              "      <td>None</td>\n",
              "      <td>None</td>\n",
              "      <td>None</td>\n",
              "      <td>None</td>\n",
              "      <td>None</td>\n",
              "      <td>None</td>\n",
              "      <td>None</td>\n",
              "      <td>None</td>\n",
              "      <td>None</td>\n",
              "      <td>None</td>\n",
              "      <td>None</td>\n",
              "      <td>None</td>\n",
              "      <td>None</td>\n",
              "      <td>None</td>\n",
              "      <td>None</td>\n",
              "      <td>None</td>\n",
              "      <td>None</td>\n",
              "      <td>None</td>\n",
              "      <td>None</td>\n",
              "      <td>None</td>\n",
              "      <td>None</td>\n",
              "      <td>None</td>\n",
              "      <td>None</td>\n",
              "      <td>None</td>\n",
              "      <td>None</td>\n",
              "      <td>None</td>\n",
              "      <td>None</td>\n",
              "      <td>None</td>\n",
              "      <td>None</td>\n",
              "      <td>None</td>\n",
              "      <td>None</td>\n",
              "      <td>None</td>\n",
              "      <td>None</td>\n",
              "      <td>None</td>\n",
              "      <td>None</td>\n",
              "      <td>None</td>\n",
              "      <td>None</td>\n",
              "      <td>None</td>\n",
              "      <td>None</td>\n",
              "      <td>None</td>\n",
              "      <td>None</td>\n",
              "      <td>None</td>\n",
              "      <td>None</td>\n",
              "      <td>None</td>\n",
              "      <td>None</td>\n",
              "      <td>None</td>\n",
              "      <td>None</td>\n",
              "      <td>None</td>\n",
              "      <td>POINT(179.366666666667 63.0666666666667)</td>\n",
              "    </tr>\n",
              "  </tbody>\n",
              "</table>\n",
              "</div>"
            ],
            "text/plain": [
              "  index_number  ...                                  port_geom\n",
              "0        50922  ...  POINT(105.983333333333 -5.91666666666667)\n",
              "1        47855  ...               POINT(43.0833333333333 11.6)\n",
              "2         8822  ...                         POINT(-90.7 28.45)\n",
              "3         2200  ...              POINT(-72.3833333333333 46.4)\n",
              "4        62635  ...   POINT(179.366666666667 63.0666666666667)\n",
              "\n",
              "[5 rows x 73 columns]"
            ]
          },
          "metadata": {},
          "execution_count": 5
        }
      ]
    },
    {
      "cell_type": "code",
      "metadata": {
        "colab": {
          "base_uri": "https://localhost:8080/"
        },
        "id": "7QF7OTPyXAk1",
        "outputId": "e954fa74-06a4-4fa1-ef13-a5d7ce6f72fb"
      },
      "source": [
        "world_port_index_dframe.shape"
      ],
      "execution_count": 6,
      "outputs": [
        {
          "output_type": "execute_result",
          "data": {
            "text/plain": [
              "(3669, 73)"
            ]
          },
          "metadata": {},
          "execution_count": 6
        }
      ]
    },
    {
      "cell_type": "markdown",
      "metadata": {
        "id": "KakAfLiYOM4T"
      },
      "source": [
        "# <center><h1> Question 1 </h1></center>\n",
        "\n",
        "<center> Q1/ What are the 5 nearest ports to Singapore's JURONG ISLAND port? (country = 'SG', port_name = 'JURONG ISLAND')</center>"
      ]
    },
    {
      "cell_type": "code",
      "metadata": {
        "colab": {
          "base_uri": "https://localhost:8080/"
        },
        "id": "foslGwCRJENt",
        "outputId": "cd9acd62-07a6-44e2-f7b6-1ae03143b8f8"
      },
      "source": [
        "question1_dframe = world_port_index_dframe.copy()\n",
        "distance_in_meters = []\n",
        "\n",
        "question1_dframe.shape"
      ],
      "execution_count": 20,
      "outputs": [
        {
          "output_type": "execute_result",
          "data": {
            "text/plain": [
              "(3669, 73)"
            ]
          },
          "metadata": {},
          "execution_count": 20
        }
      ]
    },
    {
      "cell_type": "code",
      "metadata": {
        "id": "zhDkISJlJr82"
      },
      "source": [
        "dest_jurong_island_location = question1_dframe.loc[question1_dframe.port_name == \"JURONG ISLAND\", [\"port_latitude\",\"port_longitude\"]]\n",
        "\n",
        "jurong_island_location = float(dest_jurong_island_location.port_latitude.values), float(dest_jurong_island_location.port_longitude.values)"
      ],
      "execution_count": 22,
      "outputs": []
    },
    {
      "cell_type": "code",
      "metadata": {
        "id": "1FdGDckwKf2P"
      },
      "source": [
        "for index, rows in question1_dframe.iterrows():\n",
        "  origin = float(rows[\"port_latitude\"]), float(rows[\"port_longitude\"])\n",
        "  total_distance = haversine(origin,jurong_island_location, unit=Unit.METERS)\n",
        "  distance_in_meters.append(total_distance)\n",
        "\n",
        "question1_dframe[\"distance_in_meters\"] = distance_in_meters"
      ],
      "execution_count": 23,
      "outputs": []
    },
    {
      "cell_type": "code",
      "metadata": {
        "id": "pekVibrlFWUC"
      },
      "source": [
        "question1_dframe = question1_dframe.sort_values(\"distance_in_meters\", ascending= True)"
      ],
      "execution_count": 24,
      "outputs": []
    },
    {
      "cell_type": "code",
      "metadata": {
        "colab": {
          "base_uri": "https://localhost:8080/",
          "height": 236
        },
        "id": "LUjR1DgwhE8R",
        "outputId": "2e9ac8a6-d65a-4fdf-f867-304ce22aca4a"
      },
      "source": [
        "question1_dframe[[\"port_name\",\"distance_in_meters\"]].head(6)"
      ],
      "execution_count": 25,
      "outputs": [
        {
          "output_type": "execute_result",
          "data": {
            "text/html": [
              "<div>\n",
              "<style scoped>\n",
              "    .dataframe tbody tr th:only-of-type {\n",
              "        vertical-align: middle;\n",
              "    }\n",
              "\n",
              "    .dataframe tbody tr th {\n",
              "        vertical-align: top;\n",
              "    }\n",
              "\n",
              "    .dataframe thead th {\n",
              "        text-align: right;\n",
              "    }\n",
              "</style>\n",
              "<table border=\"1\" class=\"dataframe\">\n",
              "  <thead>\n",
              "    <tr style=\"text-align: right;\">\n",
              "      <th></th>\n",
              "      <th>port_name</th>\n",
              "      <th>distance_in_meters</th>\n",
              "    </tr>\n",
              "  </thead>\n",
              "  <tbody>\n",
              "    <tr>\n",
              "      <th>1115</th>\n",
              "      <td>JURONG ISLAND</td>\n",
              "      <td>0.000000</td>\n",
              "    </tr>\n",
              "    <tr>\n",
              "      <th>1116</th>\n",
              "      <td>PULAU BUKOM</td>\n",
              "      <td>6681.537986</td>\n",
              "    </tr>\n",
              "    <tr>\n",
              "      <th>1114</th>\n",
              "      <td>PULAU SEBAROK</td>\n",
              "      <td>11865.505048</td>\n",
              "    </tr>\n",
              "    <tr>\n",
              "      <th>1113</th>\n",
              "      <td>KEPPEL - (EAST SINGAPORE)</td>\n",
              "      <td>12969.542414</td>\n",
              "    </tr>\n",
              "    <tr>\n",
              "      <th>2698</th>\n",
              "      <td>TANJUNG PELEPAS</td>\n",
              "      <td>21686.669159</td>\n",
              "    </tr>\n",
              "    <tr>\n",
              "      <th>3581</th>\n",
              "      <td>PULAU SAMBU</td>\n",
              "      <td>22618.330922</td>\n",
              "    </tr>\n",
              "  </tbody>\n",
              "</table>\n",
              "</div>"
            ],
            "text/plain": [
              "                      port_name  distance_in_meters\n",
              "1115              JURONG ISLAND            0.000000\n",
              "1116                PULAU BUKOM         6681.537986\n",
              "1114              PULAU SEBAROK        11865.505048\n",
              "1113  KEPPEL - (EAST SINGAPORE)        12969.542414\n",
              "2698            TANJUNG PELEPAS        21686.669159\n",
              "3581                PULAU SAMBU        22618.330922"
            ]
          },
          "metadata": {},
          "execution_count": 25
        }
      ]
    },
    {
      "cell_type": "code",
      "metadata": {
        "id": "NUoxTas6EPKB"
      },
      "source": [
        ""
      ],
      "execution_count": null,
      "outputs": []
    },
    {
      "cell_type": "markdown",
      "metadata": {
        "id": "mys08HHaJKSn"
      },
      "source": [
        "# <center><h1> Question 2 </h1></center>\n",
        "\n",
        "<center> Q2/ Which country has the largest number of ports with a cargo_wharf? Your answer should include\n",
        "the columns country and port_count only. </center>"
      ]
    },
    {
      "cell_type": "code",
      "metadata": {
        "colab": {
          "base_uri": "https://localhost:8080/",
          "height": 80
        },
        "id": "D1WnEX-tpkQe",
        "outputId": "5a5896ff-7223-42ed-c66b-3e0abf409c7c"
      },
      "source": [
        "%%bigquery --project glowing-indexer-329808 \n",
        "\n",
        "SELECT country, Count(*) AS port_count\n",
        "FROM `bigquery-public-data.geo_international_ports.world_port_index`\n",
        "WHERE cargo_wharf = TRUE \n",
        "GROUP BY country\n",
        "ORDER BY port_count DESC \n",
        "LIMIT 1;"
      ],
      "execution_count": 17,
      "outputs": [
        {
          "output_type": "execute_result",
          "data": {
            "text/html": [
              "<div>\n",
              "<style scoped>\n",
              "    .dataframe tbody tr th:only-of-type {\n",
              "        vertical-align: middle;\n",
              "    }\n",
              "\n",
              "    .dataframe tbody tr th {\n",
              "        vertical-align: top;\n",
              "    }\n",
              "\n",
              "    .dataframe thead th {\n",
              "        text-align: right;\n",
              "    }\n",
              "</style>\n",
              "<table border=\"1\" class=\"dataframe\">\n",
              "  <thead>\n",
              "    <tr style=\"text-align: right;\">\n",
              "      <th></th>\n",
              "      <th>country</th>\n",
              "      <th>port_count</th>\n",
              "    </tr>\n",
              "  </thead>\n",
              "  <tbody>\n",
              "    <tr>\n",
              "      <th>0</th>\n",
              "      <td>US</td>\n",
              "      <td>583</td>\n",
              "    </tr>\n",
              "  </tbody>\n",
              "</table>\n",
              "</div>"
            ],
            "text/plain": [
              "  country  port_count\n",
              "0      US         583"
            ]
          },
          "metadata": {},
          "execution_count": 17
        }
      ]
    },
    {
      "cell_type": "code",
      "metadata": {
        "id": "APwsxCk8pjoe"
      },
      "source": [
        ""
      ],
      "execution_count": null,
      "outputs": []
    },
    {
      "cell_type": "markdown",
      "metadata": {
        "id": "vq7OabYlIMGv"
      },
      "source": [
        "# <center><h1> Question 3 </h1></center>\n",
        "\n",
        "<center> Q3/ You receive a distress call from the middle of the North Atlantic Ocean. The person on the line gave you\n",
        "a coordinates of lat: 32.610982, long: -38.706256 and asked for the nearest port with\n",
        "provisions, water, fuel_oil and diesel. Your answer should include the columns\n",
        "country, port_name, port_latitude and port_longitude only. </center>"
      ]
    },
    {
      "cell_type": "code",
      "metadata": {
        "colab": {
          "base_uri": "https://localhost:8080/"
        },
        "id": "Wk9o7s7QPQdX",
        "outputId": "e8958e09-5cac-4362-c003-9c0b2a786e64"
      },
      "source": [
        "world_port_index_dframe.shape"
      ],
      "execution_count": 19,
      "outputs": [
        {
          "output_type": "execute_result",
          "data": {
            "text/plain": [
              "(3669, 73)"
            ]
          },
          "metadata": {},
          "execution_count": 19
        }
      ]
    },
    {
      "cell_type": "code",
      "metadata": {
        "colab": {
          "base_uri": "https://localhost:8080/"
        },
        "id": "J3m3m5aOpjqy",
        "outputId": "c687dcde-804e-4a64-d746-e337dddf9bde"
      },
      "source": [
        "question3_dframe = world_port_index_dframe.copy()\n",
        "\n",
        "\n",
        "question3_dframe.shape"
      ],
      "execution_count": 18,
      "outputs": [
        {
          "output_type": "execute_result",
          "data": {
            "text/plain": [
              "(3669, 73)"
            ]
          },
          "metadata": {},
          "execution_count": 18
        }
      ]
    },
    {
      "cell_type": "code",
      "metadata": {
        "id": "qSN8DEBbQr7_"
      },
      "source": [
        ""
      ],
      "execution_count": null,
      "outputs": []
    },
    {
      "cell_type": "code",
      "metadata": {
        "id": "at_1SHw4pjtT"
      },
      "source": [
        "search_coordinates_lat = \"32.610982\"\n",
        "search_coordinates_long = \"-38.706256\"\n",
        "\n",
        "search_results = search_coordinates_lat, search_coordinates_long"
      ],
      "execution_count": 27,
      "outputs": []
    },
    {
      "cell_type": "code",
      "metadata": {
        "id": "KPqOvJ_ypjvy"
      },
      "source": [
        "for index, row in question3_dframe.iterrows():\n",
        "  if (row[\"provision\"] == True) and  "
      ],
      "execution_count": null,
      "outputs": []
    },
    {
      "cell_type": "code",
      "metadata": {
        "id": "6IWBox8Ypjyb"
      },
      "source": [
        ""
      ],
      "execution_count": null,
      "outputs": []
    },
    {
      "cell_type": "code",
      "metadata": {
        "id": "TB9Xxe7jpj1S"
      },
      "source": [
        ""
      ],
      "execution_count": null,
      "outputs": []
    },
    {
      "cell_type": "code",
      "metadata": {
        "id": "VP8Pre5Lpj3l"
      },
      "source": [
        ""
      ],
      "execution_count": null,
      "outputs": []
    },
    {
      "cell_type": "code",
      "metadata": {
        "id": "Cwtpfb-1pj89"
      },
      "source": [
        ""
      ],
      "execution_count": null,
      "outputs": []
    },
    {
      "cell_type": "markdown",
      "metadata": {
        "id": "EaeZzbvVplcj"
      },
      "source": [
        "# <center><h1> Archive Codes </h1></center>"
      ]
    },
    {
      "cell_type": "code",
      "metadata": {
        "colab": {
          "base_uri": "https://localhost:8080/",
          "height": 199
        },
        "id": "QcBpLwfIptIZ",
        "outputId": "b51d0828-cc77-4d40-d56b-f9a8829f56bc"
      },
      "source": [
        "source_location1 = question1_dframe.loc[question1_dframe.port_name == \"MERAK MAS TERMINAL\", [\"port_latitude\",\"port_longitude\"]]\n",
        "\n",
        "origin1 = source_location1.port_latitude.values, source_location1.port_longitude.values\n",
        "\n",
        "display(origin)"
      ],
      "execution_count": 46,
      "outputs": [
        {
          "output_type": "error",
          "ename": "TypeError",
          "evalue": "ignored",
          "traceback": [
            "\u001b[0;31m---------------------------------------------------------------------------\u001b[0m",
            "\u001b[0;31mTypeError\u001b[0m                                 Traceback (most recent call last)",
            "\u001b[0;32m<ipython-input-46-04896a06dab3>\u001b[0m in \u001b[0;36m<module>\u001b[0;34m()\u001b[0m\n\u001b[1;32m      3\u001b[0m \u001b[0morigin1\u001b[0m \u001b[0;34m=\u001b[0m \u001b[0msource_location1\u001b[0m\u001b[0;34m.\u001b[0m\u001b[0mport_latitude\u001b[0m\u001b[0;34m.\u001b[0m\u001b[0mvalues\u001b[0m\u001b[0;34m,\u001b[0m \u001b[0msource_location1\u001b[0m\u001b[0;34m.\u001b[0m\u001b[0mport_longitude\u001b[0m\u001b[0;34m.\u001b[0m\u001b[0mvalues\u001b[0m\u001b[0;34m\u001b[0m\u001b[0;34m\u001b[0m\u001b[0m\n\u001b[1;32m      4\u001b[0m \u001b[0;34m\u001b[0m\u001b[0m\n\u001b[0;32m----> 5\u001b[0;31m \u001b[0mdisplay\u001b[0m\u001b[0;34m(\u001b[0m\u001b[0mround\u001b[0m\u001b[0;34m(\u001b[0m\u001b[0morigin\u001b[0m\u001b[0;34m,\u001b[0m\u001b[0;36m2\u001b[0m\u001b[0;34m)\u001b[0m\u001b[0;34m)\u001b[0m\u001b[0;34m\u001b[0m\u001b[0;34m\u001b[0m\u001b[0m\n\u001b[0m",
            "\u001b[0;31mTypeError\u001b[0m: type tuple doesn't define __round__ method"
          ]
        }
      ]
    },
    {
      "cell_type": "code",
      "metadata": {
        "id": "dPCINGjOptLA"
      },
      "source": [
        "distance_in_meters = haversine(origin,jurong_island_location,unit=Unit.METERS)\n",
        "\n",
        "distance_in_meters"
      ],
      "execution_count": null,
      "outputs": []
    },
    {
      "cell_type": "code",
      "metadata": {
        "id": "lKDOCW4Hpw5h"
      },
      "source": [
        "source_location2 = question1_dframe.loc[question1_dframe.port_name == \"SOUTHWEST PASS\", [\"port_latitude\",\"port_longitude\"]]\n",
        "\n",
        "origin2 = source_location2.port_latitude.values, source_location2.port_longitude.values\n",
        "\n",
        "display(origin2)"
      ],
      "execution_count": null,
      "outputs": []
    },
    {
      "cell_type": "code",
      "metadata": {
        "id": "XKRIph_yp90l"
      },
      "source": [
        "distance_in_meters2 = haversine(origin2,jurong_island_location, unit=Unit.METERS)\n",
        "\n",
        "distance_in_meters2"
      ],
      "execution_count": null,
      "outputs": []
    },
    {
      "cell_type": "code",
      "metadata": {
        "id": "wfS-KSbWBQae"
      },
      "source": [
        "# display(origin)\n",
        "# distance_in_meters = distance(origin,jurong_island_location)\n",
        "# display(distance_in_meters)"
      ],
      "execution_count": null,
      "outputs": []
    },
    {
      "cell_type": "code",
      "metadata": {
        "id": "TM_tGl1SBQcx"
      },
      "source": [
        ""
      ],
      "execution_count": null,
      "outputs": []
    }
  ]
}